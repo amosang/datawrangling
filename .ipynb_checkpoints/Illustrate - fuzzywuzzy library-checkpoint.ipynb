{
 "cells": [
  {
   "cell_type": "markdown",
   "metadata": {},
   "source": [
    "# Purpose\n",
    "- To illustrate the use of fuzzy string matching with the fuzzywuzzy library.\n",
    "    - \n",
    "\n",
    "# Links\n",
    "- https://www.datacamp.com/community/tutorials/fuzzy-string-python\n",
    "- https://github.com/seatgeek/fuzzywuzzy/blob/master/fuzzywuzzy/fuzz.py"
   ]
  },
  {
   "cell_type": "code",
   "execution_count": 15,
   "metadata": {},
   "outputs": [],
   "source": [
    "import pandas as pd\n",
    "from pandas import DataFrame, Series\n",
    "from fuzzywuzzy import fuzz, process\n",
    "\n",
    "# pandas options\n",
    "pd.set_option('display.max_columns', None)  # Shows all columns in DataFrames. See http://pandas.pydata.org/pandas-docs/stable/options.html\n",
    "pd.set_option('display.max_rows', None) # Shows all rows in DataFrames.\n",
    "pd.set_option('display.width', 5000)\n",
    "pd.set_option('display.multi_sparse', False)  #  Display every cell (for multi-level index).\n",
    "pd.set_option('display.max_colwidth', -1)  # Display full contents of each column.\n",
    "\n",
    "def get_best_match_string(str_query, l_options):\n",
    "    \"\"\" Uses fuzzywuzzy's process.extractOne to return best matching string. \n",
    "   \n",
    "    'scorer' is set to fuzz.token_set_ratio algorithm, instead of the default fuzz.WRatio scorer.\n",
    "    \n",
    "    'score_cutoff' is set at a higher bar, so that the match must be reasonably probable, otherwise system returns a NaN.\n",
    "    This is to catch situations whereby the query string is obviously not in the right table, and we don't wish to return capricious results.\n",
    "    \"\"\"\n",
    "    tup_ret = process.extractOne(str_query, l_options, scorer=fuzz.token_set_ratio, score_cutoff=75)\n",
    "    if tup_ret is not None:\n",
    "        return tup_ret[0]\n",
    "    else:\n",
    "        return np.nan"
   ]
  },
  {
   "cell_type": "code",
   "execution_count": null,
   "metadata": {},
   "outputs": [],
   "source": []
  },
  {
   "cell_type": "code",
   "execution_count": null,
   "metadata": {},
   "outputs": [],
   "source": []
  },
  {
   "cell_type": "code",
   "execution_count": 12,
   "metadata": {},
   "outputs": [],
   "source": [
    "df_db1 = pd.read_excel('C:/1/Example - Sample Company Name Data - Illustrate fuzzywuzzy.xlsx', sheet_name='db1')\n",
    "df_db2 = pd.read_excel('C:/1/Example - Sample Company Name Data - Illustrate fuzzywuzzy.xlsx', sheet_name='db2')\n",
    "\n",
    "l_options = df_db2['co_name_2'].unique()  # Get list of allowed target values.\n",
    "\n",
    "df_db1['co_name_2_matched'] = df_db1['co_name_1'].apply(lambda x: get_best_match_string(x, l_options))"
   ]
  },
  {
   "cell_type": "code",
   "execution_count": 14,
   "metadata": {},
   "outputs": [
    {
     "data": {
      "text/html": [
       "<div>\n",
       "<style scoped>\n",
       "    .dataframe tbody tr th:only-of-type {\n",
       "        vertical-align: middle;\n",
       "    }\n",
       "\n",
       "    .dataframe tbody tr th {\n",
       "        vertical-align: top;\n",
       "    }\n",
       "\n",
       "    .dataframe thead th {\n",
       "        text-align: right;\n",
       "    }\n",
       "</style>\n",
       "<table border=\"1\" class=\"dataframe\">\n",
       "  <thead>\n",
       "    <tr style=\"text-align: right;\">\n",
       "      <th></th>\n",
       "      <th>symbol</th>\n",
       "      <th>co_name_1</th>\n",
       "      <th>co_name_2_matched</th>\n",
       "      <th>co_name_2</th>\n",
       "      <th>stock_price</th>\n",
       "    </tr>\n",
       "  </thead>\n",
       "  <tbody>\n",
       "    <tr>\n",
       "      <th>0</th>\n",
       "      <td>C38U.SI</td>\n",
       "      <td>CapitaLand Mall Trust</td>\n",
       "      <td>Capita Mall Trust</td>\n",
       "      <td>Capita Mall Trust</td>\n",
       "      <td>2.36</td>\n",
       "    </tr>\n",
       "    <tr>\n",
       "      <th>1</th>\n",
       "      <td>O39.SI</td>\n",
       "      <td>Oversea-Chinese Banking Corporation Limited (OCBC)</td>\n",
       "      <td>OCBC</td>\n",
       "      <td>OCBC</td>\n",
       "      <td>11.04</td>\n",
       "    </tr>\n",
       "    <tr>\n",
       "      <th>2</th>\n",
       "      <td>S58.SI</td>\n",
       "      <td>SATS Ltd.</td>\n",
       "      <td>SATS Ltd</td>\n",
       "      <td>SATS Ltd</td>\n",
       "      <td>5.05</td>\n",
       "    </tr>\n",
       "    <tr>\n",
       "      <th>3</th>\n",
       "      <td>G13.SI</td>\n",
       "      <td>Genting Singapore Limited</td>\n",
       "      <td>Gneting Singapore Limited</td>\n",
       "      <td>Gneting Singapore Limited</td>\n",
       "      <td>1.01</td>\n",
       "    </tr>\n",
       "    <tr>\n",
       "      <th>4</th>\n",
       "      <td>C52.SI</td>\n",
       "      <td>ComfortDelGro Corporation Limited</td>\n",
       "      <td>ComfortDelGro</td>\n",
       "      <td>ComfortDelGro</td>\n",
       "      <td>2.43</td>\n",
       "    </tr>\n",
       "    <tr>\n",
       "      <th>5</th>\n",
       "      <td>Z74.SI</td>\n",
       "      <td>Singapore Telecommunications Limited</td>\n",
       "      <td>Gneting Singapore Limited</td>\n",
       "      <td>Gneting Singapore Limited</td>\n",
       "      <td>1.01</td>\n",
       "    </tr>\n",
       "    <tr>\n",
       "      <th>6</th>\n",
       "      <td>D01.SI</td>\n",
       "      <td>Dairy Farm International Holdings Limited</td>\n",
       "      <td>Dairy Farm</td>\n",
       "      <td>Dairy Farm</td>\n",
       "      <td>7.76</td>\n",
       "    </tr>\n",
       "    <tr>\n",
       "      <th>7</th>\n",
       "      <td>C31.SI</td>\n",
       "      <td>CapitaLand Limited</td>\n",
       "      <td>NaN</td>\n",
       "      <td>NaN</td>\n",
       "      <td>NaN</td>\n",
       "    </tr>\n",
       "  </tbody>\n",
       "</table>\n",
       "</div>"
      ],
      "text/plain": [
       "    symbol                                           co_name_1          co_name_2_matched                  co_name_2  stock_price\n",
       "0  C38U.SI  CapitaLand Mall Trust                               Capita Mall Trust          Capita Mall Trust          2.36       \n",
       "1  O39.SI   Oversea-Chinese Banking Corporation Limited (OCBC)  OCBC                       OCBC                       11.04      \n",
       "2  S58.SI   SATS Ltd.                                           SATS Ltd                   SATS Ltd                   5.05       \n",
       "3  G13.SI   Genting Singapore Limited                           Gneting Singapore Limited  Gneting Singapore Limited  1.01       \n",
       "4  C52.SI   ComfortDelGro Corporation Limited                   ComfortDelGro              ComfortDelGro              2.43       \n",
       "5  Z74.SI   Singapore Telecommunications Limited                Gneting Singapore Limited  Gneting Singapore Limited  1.01       \n",
       "6  D01.SI   Dairy Farm International Holdings Limited           Dairy Farm                 Dairy Farm                 7.76       \n",
       "7  C31.SI   CapitaLand Limited                                  NaN                        NaN                       NaN         "
      ]
     },
     "execution_count": 14,
     "metadata": {},
     "output_type": "execute_result"
    }
   ],
   "source": [
    "df_merge = pd.merge(df_db1, df_db2, how='left', left_on=['co_name_2_matched'], right_on=['co_name_2'])\n",
    "df_merge\n"
   ]
  },
  {
   "cell_type": "code",
   "execution_count": null,
   "metadata": {},
   "outputs": [],
   "source": []
  },
  {
   "cell_type": "code",
   "execution_count": 16,
   "metadata": {},
   "outputs": [
    {
     "data": {
      "text/plain": [
       "[('Gneting Singapore Limited', 56),\n",
       " ('CapLand', 56),\n",
       " ('Capita Mall Trust', 51),\n",
       " ('SingTel', 32),\n",
       " ('SATS Ltd', 31),\n",
       " ('Dairy Farm', 29),\n",
       " ('ComfortDelGro', 26),\n",
       " ('OCBC', 9)]"
      ]
     },
     "execution_count": 16,
     "metadata": {},
     "output_type": "execute_result"
    }
   ],
   "source": [
    "# TROUBLESHOOT MATCHING #\n",
    "process.extract('CapitaLand Limited', l_options, limit=20, scorer=fuzz.token_set_ratio)"
   ]
  }
 ],
 "metadata": {
  "kernelspec": {
   "display_name": "Python 3",
   "language": "python",
   "name": "python3"
  },
  "language_info": {
   "codemirror_mode": {
    "name": "ipython",
    "version": 3
   },
   "file_extension": ".py",
   "mimetype": "text/x-python",
   "name": "python",
   "nbconvert_exporter": "python",
   "pygments_lexer": "ipython3",
   "version": "3.7.1"
  },
  "varInspector": {
   "cols": {
    "lenName": 16,
    "lenType": 16,
    "lenVar": 40
   },
   "kernels_config": {
    "python": {
     "delete_cmd_postfix": "",
     "delete_cmd_prefix": "del ",
     "library": "var_list.py",
     "varRefreshCmd": "print(var_dic_list())"
    },
    "r": {
     "delete_cmd_postfix": ") ",
     "delete_cmd_prefix": "rm(",
     "library": "var_list.r",
     "varRefreshCmd": "cat(var_dic_list()) "
    }
   },
   "types_to_exclude": [
    "module",
    "function",
    "builtin_function_or_method",
    "instance",
    "_Feature"
   ],
   "window_display": false
  }
 },
 "nbformat": 4,
 "nbformat_minor": 2
}
