{
 "cells": [
  {
   "cell_type": "markdown",
   "metadata": {},
   "source": [
    "# Problem Statement\n",
    "Sometimes we have to combine multiple datasets, but the *only common field is a free-text string* containing mostly similar but sometimes slightly different representations of the same entities. These entities could be Customer Names or Company Names. Examples of these slightly different representations include \"IBM\" vs \"I.B.M\", and \"Microsoft\" vs \"Microsotf\".\n",
    "\n",
    "If your systems rely on the strings being identical, this would cause a matching problem. \n",
    "\n",
    "Here, we showcase some sample code, leveraging on Python's fuzzywuzzy library to handle this thorny problem, which is frequently encountered when cleaning up datasets.\n",
    "\n",
    "# Purpose\n",
    "- To illustrate the use of fuzzy string matching with Python's fuzzywuzzy library. This attempts to solve the problem of matching slightly different representations of the same entities."
   ]
  },
  {
   "cell_type": "code",
   "execution_count": 30,
   "metadata": {},
   "outputs": [],
   "source": [
    "import numpy as np\n",
    "import pandas as pd\n",
    "from pandas import DataFrame, Series\n",
    "from fuzzywuzzy import fuzz, process\n",
    "\n",
    "# pandas options\n",
    "pd.set_option('display.max_columns', None)  # Shows all columns in DataFrames. See http://pandas.pydata.org/pandas-docs/stable/options.html\n",
    "pd.set_option('display.max_rows', None) # Shows all rows in DataFrames.\n",
    "pd.set_option('display.width', 5000)\n",
    "pd.set_option('display.multi_sparse', False)  #  Display every cell (for multi-level index).\n",
    "pd.set_option('display.max_colwidth', -1)  # Display full contents of each column.\n"
   ]
  },
  {
   "cell_type": "markdown",
   "metadata": {},
   "source": [
    "# Examining the data\n",
    "Here we have 2 datasets, df_db1 and df_db2. df_db1 contains the CompanyName and symbol, while df_db2 contains the CompanyName and stock price. We would like to join both datasets together to get the CompanyName, symbol and stock price in 1 dataset. However, if you compare the 2 fields containing CompanyName (co_name_1, co_name_2), we see that they contain slightly different representations of the same company name. For example, \"CapitaLand Mall Trust\" vs \"Capita Mall Trust\".\n",
    "This makes it difficult to combine both datasets."
   ]
  },
  {
   "cell_type": "code",
   "execution_count": 31,
   "metadata": {},
   "outputs": [
    {
     "name": "stdout",
     "output_type": "stream",
     "text": [
      "    symbol                                           co_name_1\n",
      "0  C38U.SI  CapitaLand Mall Trust                             \n",
      "1  O39.SI   Oversea-Chinese Banking Corporation Limited (OCBC)\n",
      "2  S58.SI   SATS Ltd.                                         \n",
      "3  G13.SI   Genting Singapore Limited                         \n",
      "4  C52.SI   ComfortDelGro Corporation Limited                 \n",
      "5  Z74.SI   Singapore Telecommunications Limited              \n",
      "6  D01.SI   Dairy Farm International Holdings Limited         \n",
      "7  C31.SI   CapitaLand Limited                                \n",
      "                   co_name_2  stock_price\n",
      "0  Capita Mall Trust          2.36       \n",
      "1  OCBC                       11.04      \n",
      "2  SATS Ltd                   5.05       \n",
      "3  Gneting Singapore Limited  1.01       \n",
      "4  ComfortDelGro              2.43       \n",
      "5  SingTel                    2.94       \n",
      "6  Dairy Farm                 7.76       \n",
      "7  CapLand                    3.43       \n"
     ]
    }
   ],
   "source": [
    "df_db1 = pd.read_excel('Example - Sample Company Name Data - Illustrate fuzzywuzzy.xlsx', sheet_name='db1')\n",
    "df_db2 = pd.read_excel('Example - Sample Company Name Data - Illustrate fuzzywuzzy.xlsx', sheet_name='db2')\n",
    "\n",
    "print(df_db1)\n",
    "print(df_db2)"
   ]
  },
  {
   "cell_type": "markdown",
   "metadata": {},
   "source": [
    "# Creating a wrapper around process.extractOne()\n",
    "A function get_best_match_string() is created as a wrapper around fuzzywuzzy's process.extractOne(), to make it easier to use with .apply() on the DataFrame's column.\n",
    "\n",
    "The general idea is that we come up with a unique list of options (\"l_options\") from the 2nd dataset (\"df_db2\"). Then for each CompanyName in the first dataset (\"df_db1\"), we obtain the closest-matched string from l_options.\n",
    "We also cater for the situation whereby none of the strings in l_options are a good match. We do this by tweaking the score_cutoff parameter."
   ]
  },
  {
   "cell_type": "code",
   "execution_count": 32,
   "metadata": {},
   "outputs": [],
   "source": [
    "l_options = df_db2['co_name_2'].unique()  # Get list of allowed target values.\n",
    "\n",
    "def get_best_match_string(str_query, l_options, scorer=fuzz.token_set_ratio, score_cutoff=75):\n",
    "    \"\"\" Uses fuzzywuzzy's process.extractOne to return best matching string. \n",
    "   \n",
    "    'scorer' is set to fuzz.token_set_ratio algorithm, instead of the default fuzz.WRatio scorer.\n",
    "    \n",
    "    'score_cutoff' is set at a higher bar, so that the match must be reasonably probable, otherwise system returns a NaN.\n",
    "    This is to catch situations whereby the query string is obviously not in the right table, and we don't wish to return capricious results.\n",
    "    \"\"\"\n",
    "    tup_ret = process.extractOne(str_query, l_options, scorer=scorer, score_cutoff=score_cutoff)\n",
    "    if tup_ret is not None:\n",
    "        return tup_ret[0]\n",
    "    else:\n",
    "        return np.nan\n",
    "\n",
    "df_db1['co_name_2_matched'] = df_db1['co_name_1'].apply(lambda x: get_best_match_string(x, l_options))"
   ]
  },
  {
   "cell_type": "markdown",
   "metadata": {},
   "source": [
    "# Examining the best-matched results\n",
    "Below, we see the best matches, taken from df_db2.co_name_2. Recall that we're doing this to form a \"bridge\" from df_db1 to df_db2. \n",
    "\n",
    "Generally, most names were matched correctly. We see that the algorithm works for various cases, whether the names were missing a character (\"SATS Ltd.\" vs \"SATS Ltd\"), or a long string was compared to a short string (\"Oversea-Chinese Banking Corporation Limited (OCBC)\" vs \"OCBC\").\n",
    "\n",
    "What about the failed matches? For the case of \"CapitaLand Limited\" vs \"CapLand\", the match resulted in a NaN because the match score did not pass the hurdle we set (score_cutoff=75). In other words, we use this parameter to tell the system to effectively return a \"NOT FOUND\", if it's not confident.\n",
    "As for why \"Singapore Telecommunications Limited\" matched with \"Gneting Singapore Limited\", this is likely caused by the presence of the word \"Limited\". Each dataset is unique, but with careful observation, you can use mitigation techniques such as creating an auxiliary column with stop-words/keywords removed, to aid the algorithm's matching accuracy."
   ]
  },
  {
   "cell_type": "code",
   "execution_count": 33,
   "metadata": {},
   "outputs": [
    {
     "data": {
      "text/html": [
       "<div>\n",
       "<style scoped>\n",
       "    .dataframe tbody tr th:only-of-type {\n",
       "        vertical-align: middle;\n",
       "    }\n",
       "\n",
       "    .dataframe tbody tr th {\n",
       "        vertical-align: top;\n",
       "    }\n",
       "\n",
       "    .dataframe thead th {\n",
       "        text-align: right;\n",
       "    }\n",
       "</style>\n",
       "<table border=\"1\" class=\"dataframe\">\n",
       "  <thead>\n",
       "    <tr style=\"text-align: right;\">\n",
       "      <th></th>\n",
       "      <th>symbol</th>\n",
       "      <th>co_name_1</th>\n",
       "      <th>co_name_2_matched</th>\n",
       "    </tr>\n",
       "  </thead>\n",
       "  <tbody>\n",
       "    <tr>\n",
       "      <th>0</th>\n",
       "      <td>C38U.SI</td>\n",
       "      <td>CapitaLand Mall Trust</td>\n",
       "      <td>Capita Mall Trust</td>\n",
       "    </tr>\n",
       "    <tr>\n",
       "      <th>1</th>\n",
       "      <td>O39.SI</td>\n",
       "      <td>Oversea-Chinese Banking Corporation Limited (OCBC)</td>\n",
       "      <td>OCBC</td>\n",
       "    </tr>\n",
       "    <tr>\n",
       "      <th>2</th>\n",
       "      <td>S58.SI</td>\n",
       "      <td>SATS Ltd.</td>\n",
       "      <td>SATS Ltd</td>\n",
       "    </tr>\n",
       "    <tr>\n",
       "      <th>3</th>\n",
       "      <td>G13.SI</td>\n",
       "      <td>Genting Singapore Limited</td>\n",
       "      <td>Gneting Singapore Limited</td>\n",
       "    </tr>\n",
       "    <tr>\n",
       "      <th>4</th>\n",
       "      <td>C52.SI</td>\n",
       "      <td>ComfortDelGro Corporation Limited</td>\n",
       "      <td>ComfortDelGro</td>\n",
       "    </tr>\n",
       "    <tr>\n",
       "      <th>5</th>\n",
       "      <td>Z74.SI</td>\n",
       "      <td>Singapore Telecommunications Limited</td>\n",
       "      <td>Gneting Singapore Limited</td>\n",
       "    </tr>\n",
       "    <tr>\n",
       "      <th>6</th>\n",
       "      <td>D01.SI</td>\n",
       "      <td>Dairy Farm International Holdings Limited</td>\n",
       "      <td>Dairy Farm</td>\n",
       "    </tr>\n",
       "    <tr>\n",
       "      <th>7</th>\n",
       "      <td>C31.SI</td>\n",
       "      <td>CapitaLand Limited</td>\n",
       "      <td>NaN</td>\n",
       "    </tr>\n",
       "  </tbody>\n",
       "</table>\n",
       "</div>"
      ],
      "text/plain": [
       "    symbol                                           co_name_1          co_name_2_matched\n",
       "0  C38U.SI  CapitaLand Mall Trust                               Capita Mall Trust        \n",
       "1  O39.SI   Oversea-Chinese Banking Corporation Limited (OCBC)  OCBC                     \n",
       "2  S58.SI   SATS Ltd.                                           SATS Ltd                 \n",
       "3  G13.SI   Genting Singapore Limited                           Gneting Singapore Limited\n",
       "4  C52.SI   ComfortDelGro Corporation Limited                   ComfortDelGro            \n",
       "5  Z74.SI   Singapore Telecommunications Limited                Gneting Singapore Limited\n",
       "6  D01.SI   Dairy Farm International Holdings Limited           Dairy Farm               \n",
       "7  C31.SI   CapitaLand Limited                                  NaN                      "
      ]
     },
     "execution_count": 33,
     "metadata": {},
     "output_type": "execute_result"
    }
   ],
   "source": [
    "df_db1"
   ]
  },
  {
   "cell_type": "markdown",
   "metadata": {},
   "source": [
    "# Combining both datasets\n",
    "Finally, we merge both datasets, using the \"bridge\" (co_name_2_matched) that we've created. This way, we managed to bring in fields from both datasets, into a combined dataset."
   ]
  },
  {
   "cell_type": "code",
   "execution_count": 34,
   "metadata": {},
   "outputs": [
    {
     "data": {
      "text/html": [
       "<div>\n",
       "<style scoped>\n",
       "    .dataframe tbody tr th:only-of-type {\n",
       "        vertical-align: middle;\n",
       "    }\n",
       "\n",
       "    .dataframe tbody tr th {\n",
       "        vertical-align: top;\n",
       "    }\n",
       "\n",
       "    .dataframe thead th {\n",
       "        text-align: right;\n",
       "    }\n",
       "</style>\n",
       "<table border=\"1\" class=\"dataframe\">\n",
       "  <thead>\n",
       "    <tr style=\"text-align: right;\">\n",
       "      <th></th>\n",
       "      <th>symbol</th>\n",
       "      <th>co_name_1</th>\n",
       "      <th>co_name_2</th>\n",
       "      <th>stock_price</th>\n",
       "    </tr>\n",
       "  </thead>\n",
       "  <tbody>\n",
       "    <tr>\n",
       "      <th>0</th>\n",
       "      <td>C38U.SI</td>\n",
       "      <td>CapitaLand Mall Trust</td>\n",
       "      <td>Capita Mall Trust</td>\n",
       "      <td>2.36</td>\n",
       "    </tr>\n",
       "    <tr>\n",
       "      <th>1</th>\n",
       "      <td>O39.SI</td>\n",
       "      <td>Oversea-Chinese Banking Corporation Limited (OCBC)</td>\n",
       "      <td>OCBC</td>\n",
       "      <td>11.04</td>\n",
       "    </tr>\n",
       "    <tr>\n",
       "      <th>2</th>\n",
       "      <td>S58.SI</td>\n",
       "      <td>SATS Ltd.</td>\n",
       "      <td>SATS Ltd</td>\n",
       "      <td>5.05</td>\n",
       "    </tr>\n",
       "    <tr>\n",
       "      <th>3</th>\n",
       "      <td>G13.SI</td>\n",
       "      <td>Genting Singapore Limited</td>\n",
       "      <td>Gneting Singapore Limited</td>\n",
       "      <td>1.01</td>\n",
       "    </tr>\n",
       "    <tr>\n",
       "      <th>4</th>\n",
       "      <td>C52.SI</td>\n",
       "      <td>ComfortDelGro Corporation Limited</td>\n",
       "      <td>ComfortDelGro</td>\n",
       "      <td>2.43</td>\n",
       "    </tr>\n",
       "    <tr>\n",
       "      <th>5</th>\n",
       "      <td>Z74.SI</td>\n",
       "      <td>Singapore Telecommunications Limited</td>\n",
       "      <td>Gneting Singapore Limited</td>\n",
       "      <td>1.01</td>\n",
       "    </tr>\n",
       "    <tr>\n",
       "      <th>6</th>\n",
       "      <td>D01.SI</td>\n",
       "      <td>Dairy Farm International Holdings Limited</td>\n",
       "      <td>Dairy Farm</td>\n",
       "      <td>7.76</td>\n",
       "    </tr>\n",
       "    <tr>\n",
       "      <th>7</th>\n",
       "      <td>C31.SI</td>\n",
       "      <td>CapitaLand Limited</td>\n",
       "      <td>NaN</td>\n",
       "      <td>NaN</td>\n",
       "    </tr>\n",
       "  </tbody>\n",
       "</table>\n",
       "</div>"
      ],
      "text/plain": [
       "    symbol                                           co_name_1                  co_name_2  stock_price\n",
       "0  C38U.SI  CapitaLand Mall Trust                               Capita Mall Trust          2.36       \n",
       "1  O39.SI   Oversea-Chinese Banking Corporation Limited (OCBC)  OCBC                       11.04      \n",
       "2  S58.SI   SATS Ltd.                                           SATS Ltd                   5.05       \n",
       "3  G13.SI   Genting Singapore Limited                           Gneting Singapore Limited  1.01       \n",
       "4  C52.SI   ComfortDelGro Corporation Limited                   ComfortDelGro              2.43       \n",
       "5  Z74.SI   Singapore Telecommunications Limited                Gneting Singapore Limited  1.01       \n",
       "6  D01.SI   Dairy Farm International Holdings Limited           Dairy Farm                 7.76       \n",
       "7  C31.SI   CapitaLand Limited                                  NaN                       NaN         "
      ]
     },
     "execution_count": 34,
     "metadata": {},
     "output_type": "execute_result"
    }
   ],
   "source": [
    "df_merge = pd.merge(df_db1, df_db2, how='left', left_on=['co_name_2_matched'], right_on=['co_name_2'])\n",
    "df_merge.drop(labels=['co_name_2_matched'], axis=1, inplace=True)\n",
    "df_merge"
   ]
  },
  {
   "cell_type": "markdown",
   "metadata": {},
   "source": [
    "# Troubleshooting the mismatches\n",
    "By using process.extract() on the wrong matches, you can get the score values (100 is perfect match) to get a sense of how close the matches are. Then by tweaking either the scorer and/or score_cutoff parameters accordingly, we can fine-tune the matching to create the highest number of matches possible."
   ]
  },
  {
   "cell_type": "code",
   "execution_count": 35,
   "metadata": {},
   "outputs": [
    {
     "data": {
      "text/plain": [
       "[('Gneting Singapore Limited', 56),\n",
       " ('CapLand', 56),\n",
       " ('Capita Mall Trust', 51),\n",
       " ('SingTel', 32),\n",
       " ('SATS Ltd', 31),\n",
       " ('Dairy Farm', 29),\n",
       " ('ComfortDelGro', 26),\n",
       " ('OCBC', 9)]"
      ]
     },
     "execution_count": 35,
     "metadata": {},
     "output_type": "execute_result"
    }
   ],
   "source": [
    "# TROUBLESHOOT MATCHING #\n",
    "process.extract('CapitaLand Limited', l_options, limit=20, scorer=fuzz.token_set_ratio)"
   ]
  },
  {
   "cell_type": "markdown",
   "metadata": {},
   "source": [
    "# References\n",
    "See the below links for further reading\n",
    "- https://www.datacamp.com/community/tutorials/fuzzy-string-python\n",
    "- https://github.com/seatgeek/fuzzywuzzy/blob/master/fuzzywuzzy/fuzz.py"
   ]
  }
 ],
 "metadata": {
  "kernelspec": {
   "display_name": "Python 3",
   "language": "python",
   "name": "python3"
  },
  "language_info": {
   "codemirror_mode": {
    "name": "ipython",
    "version": 3
   },
   "file_extension": ".py",
   "mimetype": "text/x-python",
   "name": "python",
   "nbconvert_exporter": "python",
   "pygments_lexer": "ipython3",
   "version": "3.7.1"
  },
  "varInspector": {
   "cols": {
    "lenName": 16,
    "lenType": 16,
    "lenVar": 40
   },
   "kernels_config": {
    "python": {
     "delete_cmd_postfix": "",
     "delete_cmd_prefix": "del ",
     "library": "var_list.py",
     "varRefreshCmd": "print(var_dic_list())"
    },
    "r": {
     "delete_cmd_postfix": ") ",
     "delete_cmd_prefix": "rm(",
     "library": "var_list.r",
     "varRefreshCmd": "cat(var_dic_list()) "
    }
   },
   "types_to_exclude": [
    "module",
    "function",
    "builtin_function_or_method",
    "instance",
    "_Feature"
   ],
   "window_display": false
  }
 },
 "nbformat": 4,
 "nbformat_minor": 2
}
