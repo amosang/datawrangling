{
 "cells": [
  {
   "cell_type": "markdown",
   "metadata": {},
   "source": [
    "# Test driving the Calendarific API\n",
    "The Calendarific API provides an intuitive, limited-use API feed, providing access to global holiday calendars, for current, past, and future years. \n",
    "\n",
    "The data may be useful for certain scenarios:\n",
    "1. For HR or factory calendars, so that the system knows which are non-working days.\n",
    "2. For vacation planning. Since you can calculate the day-of-week from the holiday date, you can spot the possibilities to create long weekends by strategically planning your leave.\n",
    "3. Those from the travel, leisure, or tourism industries might be interested to know about potential long weekends in their major source markets.\n",
    "\n",
    "Do share any other interesting use cases that you might think of!\n",
    "\n",
    "# References\n",
    "- Main web page: https://calendarific.com\n",
    "- Free usage of the API is limited to 1,000 API requests per day. If you exceed 1,000 requests in a 24 hour period, a 429 HTTP status code will be returned. Paid plans come with monthly limits, and configurable alerts.\n",
    "- List of supported countries holiday calendars: https://calendarific.com/supported-countries"
   ]
  },
  {
   "cell_type": "code",
   "execution_count": 3,
   "metadata": {},
   "outputs": [],
   "source": [
    "import pandas as pd\n",
    "from pandas import DataFrame, Series\n",
    "import requests\n",
    "import json\n",
    "import datetime as dt\n",
    "\n",
    "# pandas options\n",
    "pd.set_option('display.max_columns', None)  # Shows all columns in DataFrames. See http://pandas.pydata.org/pandas-docs/stable/options.html\n",
    "pd.set_option('display.max_rows', None) # Shows all rows in DataFrames.\n",
    "pd.set_option('display.width', 5000)\n",
    "pd.set_option('display.multi_sparse', False)  #  Display every cell (for multi-level index).\n",
    "pd.set_option('display.max_colwidth', -1)  # Display full contents of each column.\n"
   ]
  },
  {
   "cell_type": "markdown",
   "metadata": {},
   "source": [
    "# Wrappers for the API call, error handling, and iteration\n",
    "The below pair of functions is rather self-explanatory. *get_holidays_multiple()* makes it really convenient to retrieve multiple values -- simply supply the desired values in the relevant list.\n",
    "\n",
    "You will have to register for a free account at https://calendarific.com and get your own API token, and paste it below for the code to work."
   ]
  },
  {
   "cell_type": "code",
   "execution_count": 4,
   "metadata": {},
   "outputs": [],
   "source": [
    "API_TOKEN = ''  # <= Register for a free account and put your API token here.\n",
    "\n",
    "def get_holidays(token, country, year):\n",
    "    \"\"\" Returns DataFrame of all holidays for the specified country and year pair.\n",
    "    \"\"\"\n",
    "    url = f'https://calendarific.com/api/v2/json/holidays?api_key={API_TOKEN}&country={country}&year={year}'\n",
    "    res = requests.get(url)\n",
    "    if res.status_code == 200:\n",
    "        l_recs = json.loads(res.text)['response']['holidays']\n",
    "        df_all = DataFrame(columns=['date', 'name', 'desc', 'type'])\n",
    "        for rec in l_recs:\n",
    "            # Assemble the variable values from the JSON sub-structure.\n",
    "            dt_date = pd.to_datetime(str(rec['date']['datetime']['year']) + '-' \n",
    "                                     + str(rec['date']['datetime']['month']) + '-' \n",
    "                                     + str(rec['date']['datetime']['day']))\n",
    "            sr_row = Series({'date':dt_date, 'name':rec['name'], 'desc':rec['description'], 'type':rec['type']})\n",
    "            df_all = df_all.append(sr_row, ignore_index=True)\n",
    "\n",
    "        # Convert the list in 'type' column, to comma-separated string. All lowercased to facilitate comparison.\n",
    "        df_all['type'] = [','.join(map(str, x)) for x in df_all['type']]\n",
    "        df_all['type'] = df_all['type'].str.lower()\n",
    "        \n",
    "        df_all = df_all[['date', 'name', 'type', 'desc']]  # Change the column order.\n",
    "        return df_all\n",
    "    else:\n",
    "        print('[ERROR] HTTP Return Code:{}'.format(res.status_code))\n",
    "        \n",
    "def get_holidays_multiple(token, l_country, l_year):\n",
    "    \"\"\" Given a list of countries and list of years, get all the holidays and return the DataFrame.\n",
    "    \"\"\"\n",
    "    df_all = DataFrame()    \n",
    "    for year in l_year:\n",
    "        for country in l_country:\n",
    "            df = get_holidays(token, country, year)\n",
    "            df.insert(0, column='country', value=country)\n",
    "            df_all = df_all.append(df, ignore_index=True)\n",
    "    return df_all"
   ]
  },
  {
   "cell_type": "markdown",
   "metadata": {},
   "source": [
    "# Calling the API through our function\n"
   ]
  },
  {
   "cell_type": "code",
   "execution_count": 5,
   "metadata": {},
   "outputs": [
    {
     "name": "stdout",
     "output_type": "stream",
     "text": [
      "(2299, 5)\n"
     ]
    }
   ],
   "source": [
    "l_country = ['SG', 'IN', 'ID', 'AU', 'US', 'JP', 'CN', 'DE', 'GB', 'KR', 'MY', 'TH', 'PH', 'HK', 'TW']\n",
    "l_year = ['2019', '2018']\n",
    "\n",
    "df = get_holidays_multiple(token=API_TOKEN, l_country=l_country, l_year=l_year)\n",
    "print(df.shape)"
   ]
  },
  {
   "cell_type": "markdown",
   "metadata": {},
   "source": [
    "## What are the holidays in SG for 2019?"
   ]
  },
  {
   "cell_type": "code",
   "execution_count": 19,
   "metadata": {},
   "outputs": [
    {
     "data": {
      "text/html": [
       "<div>\n",
       "<style scoped>\n",
       "    .dataframe tbody tr th:only-of-type {\n",
       "        vertical-align: middle;\n",
       "    }\n",
       "\n",
       "    .dataframe tbody tr th {\n",
       "        vertical-align: top;\n",
       "    }\n",
       "\n",
       "    .dataframe thead th {\n",
       "        text-align: right;\n",
       "    }\n",
       "</style>\n",
       "<table border=\"1\" class=\"dataframe\">\n",
       "  <thead>\n",
       "    <tr style=\"text-align: right;\">\n",
       "      <th></th>\n",
       "      <th>country</th>\n",
       "      <th>date</th>\n",
       "      <th>name</th>\n",
       "      <th>type</th>\n",
       "      <th>desc</th>\n",
       "    </tr>\n",
       "  </thead>\n",
       "  <tbody>\n",
       "    <tr>\n",
       "      <th>0</th>\n",
       "      <td>SG</td>\n",
       "      <td>2019-01-01</td>\n",
       "      <td>New Year's Day</td>\n",
       "      <td>national holiday</td>\n",
       "      <td>New Year’s Day is the first day of the year, or January 1, in the Gregorian calendar.</td>\n",
       "    </tr>\n",
       "    <tr>\n",
       "      <th>2</th>\n",
       "      <td>SG</td>\n",
       "      <td>2019-02-05</td>\n",
       "      <td>Chinese Lunar New Year's Day</td>\n",
       "      <td>national holiday</td>\n",
       "      <td>Chinese New Year is the first day of the Chinese calendar, which is a lunisolar calendar mainly used for traditional celebrations.</td>\n",
       "    </tr>\n",
       "    <tr>\n",
       "      <th>3</th>\n",
       "      <td>SG</td>\n",
       "      <td>2019-02-06</td>\n",
       "      <td>Second day of Chinese Lunar New Year</td>\n",
       "      <td>national holiday</td>\n",
       "      <td>None</td>\n",
       "    </tr>\n",
       "    <tr>\n",
       "      <th>9</th>\n",
       "      <td>SG</td>\n",
       "      <td>2019-04-19</td>\n",
       "      <td>Good Friday</td>\n",
       "      <td>national holiday</td>\n",
       "      <td>Good Friday is a global Christian observance two days before Easter Sunday.</td>\n",
       "    </tr>\n",
       "    <tr>\n",
       "      <th>12</th>\n",
       "      <td>SG</td>\n",
       "      <td>2019-05-01</td>\n",
       "      <td>Labour Day</td>\n",
       "      <td>national holiday</td>\n",
       "      <td>May Day, or Labor Day, is a day off for workers in many countries around the world.</td>\n",
       "    </tr>\n",
       "    <tr>\n",
       "      <th>15</th>\n",
       "      <td>SG</td>\n",
       "      <td>2019-05-19</td>\n",
       "      <td>Vesak Day</td>\n",
       "      <td>national holiday</td>\n",
       "      <td>None</td>\n",
       "    </tr>\n",
       "    <tr>\n",
       "      <th>16</th>\n",
       "      <td>SG</td>\n",
       "      <td>2019-05-20</td>\n",
       "      <td>Vesak Day observed</td>\n",
       "      <td>national holiday</td>\n",
       "      <td>None</td>\n",
       "    </tr>\n",
       "    <tr>\n",
       "      <th>17</th>\n",
       "      <td>SG</td>\n",
       "      <td>2019-06-05</td>\n",
       "      <td>Hari Raya Puasa</td>\n",
       "      <td>national holiday</td>\n",
       "      <td>Eid-al-Fitr is a holiday to mark the end of the Islamic month of Ramadan, during which Muslims fast during the hours of daylight.</td>\n",
       "    </tr>\n",
       "    <tr>\n",
       "      <th>22</th>\n",
       "      <td>SG</td>\n",
       "      <td>2019-08-09</td>\n",
       "      <td>National Day</td>\n",
       "      <td>national holiday</td>\n",
       "      <td>None</td>\n",
       "    </tr>\n",
       "    <tr>\n",
       "      <th>23</th>\n",
       "      <td>SG</td>\n",
       "      <td>2019-08-11</td>\n",
       "      <td>Hari Raya Haji</td>\n",
       "      <td>national holiday</td>\n",
       "      <td>Eid al-Adha (Id ul-Adha) is an Islamic festival falling on the 10th day of the month of Dhul Hijja (Thou al-Hijja) to commemorate the willingness of Ibrahim (Abraham) to sacrifice his son.</td>\n",
       "    </tr>\n",
       "    <tr>\n",
       "      <th>24</th>\n",
       "      <td>SG</td>\n",
       "      <td>2019-08-12</td>\n",
       "      <td>Hari Raya Haji observed</td>\n",
       "      <td>national holiday</td>\n",
       "      <td>Eid al-Adha (Id ul-Adha) is an Islamic festival falling on the 10th day of the month of Dhul Hijja (Thou al-Hijja) to commemorate the willingness of Ibrahim (Abraham) to sacrifice his son.</td>\n",
       "    </tr>\n",
       "    <tr>\n",
       "      <th>27</th>\n",
       "      <td>SG</td>\n",
       "      <td>2019-10-27</td>\n",
       "      <td>Diwali/Deepavali</td>\n",
       "      <td>national holiday</td>\n",
       "      <td>Diwali, also known as the Festival of Lights, is one of the most popular Hindu festivals.</td>\n",
       "    </tr>\n",
       "    <tr>\n",
       "      <th>28</th>\n",
       "      <td>SG</td>\n",
       "      <td>2019-10-28</td>\n",
       "      <td>Diwali/Deepavali observed</td>\n",
       "      <td>national holiday</td>\n",
       "      <td>Diwali, also known as the Festival of Lights, is one of the most popular Hindu festivals.</td>\n",
       "    </tr>\n",
       "    <tr>\n",
       "      <th>31</th>\n",
       "      <td>SG</td>\n",
       "      <td>2019-12-25</td>\n",
       "      <td>Christmas Day</td>\n",
       "      <td>national holiday</td>\n",
       "      <td>Christmas Day is one of the biggest Christian celebrations and falls on December 25 in the Gregorian calendar.</td>\n",
       "    </tr>\n",
       "  </tbody>\n",
       "</table>\n",
       "</div>"
      ],
      "text/plain": [
       "   country       date                                  name              type                                                                                                                                                                                          desc\n",
       "0   SG     2019-01-01  New Year's Day                        national holiday  New Year’s Day is the first day of the year, or January 1, in the Gregorian calendar.                                                                                                       \n",
       "2   SG     2019-02-05  Chinese Lunar New Year's Day          national holiday  Chinese New Year is the first day of the Chinese calendar, which is a lunisolar calendar mainly used for traditional celebrations.                                                          \n",
       "3   SG     2019-02-06  Second day of Chinese Lunar New Year  national holiday  None                                                                                                                                                                                        \n",
       "9   SG     2019-04-19  Good Friday                           national holiday  Good Friday is a global Christian observance two days before Easter Sunday.                                                                                                                 \n",
       "12  SG     2019-05-01  Labour Day                            national holiday  May Day, or Labor Day, is a day off for workers in many countries around the world.                                                                                                         \n",
       "15  SG     2019-05-19  Vesak Day                             national holiday  None                                                                                                                                                                                        \n",
       "16  SG     2019-05-20  Vesak Day observed                    national holiday  None                                                                                                                                                                                        \n",
       "17  SG     2019-06-05  Hari Raya Puasa                       national holiday  Eid-al-Fitr is a holiday to mark the end of the Islamic month of Ramadan, during which Muslims fast during the hours of daylight.                                                           \n",
       "22  SG     2019-08-09  National Day                          national holiday  None                                                                                                                                                                                        \n",
       "23  SG     2019-08-11  Hari Raya Haji                        national holiday  Eid al-Adha (Id ul-Adha) is an Islamic festival falling on the 10th day of the month of Dhul Hijja (Thou al-Hijja) to commemorate the willingness of Ibrahim (Abraham) to sacrifice his son.\n",
       "24  SG     2019-08-12  Hari Raya Haji observed               national holiday  Eid al-Adha (Id ul-Adha) is an Islamic festival falling on the 10th day of the month of Dhul Hijja (Thou al-Hijja) to commemorate the willingness of Ibrahim (Abraham) to sacrifice his son.\n",
       "27  SG     2019-10-27  Diwali/Deepavali                      national holiday  Diwali, also known as the Festival of Lights, is one of the most popular Hindu festivals.                                                                                                   \n",
       "28  SG     2019-10-28  Diwali/Deepavali observed             national holiday  Diwali, also known as the Festival of Lights, is one of the most popular Hindu festivals.                                                                                                   \n",
       "31  SG     2019-12-25  Christmas Day                         national holiday  Christmas Day is one of the biggest Christian celebrations and falls on December 25 in the Gregorian calendar.                                                                              "
      ]
     },
     "execution_count": 19,
     "metadata": {},
     "output_type": "execute_result"
    }
   ],
   "source": [
    "df[(df['country']=='SG') & (df['date'].dt.year==2019) & (df['type'].str.contains('national holiday'))]"
   ]
  },
  {
   "cell_type": "markdown",
   "metadata": {},
   "source": [
    "## Which countries have the most national holidays in 2019?\n",
    "It appears that India has it best, at more than double second placed Thailand!"
   ]
  },
  {
   "cell_type": "code",
   "execution_count": 17,
   "metadata": {},
   "outputs": [
    {
     "data": {
      "text/plain": [
       "country\n",
       "IN    49\n",
       "TH    23\n",
       "PH    22\n",
       "JP    22\n",
       "ID    20\n",
       "HK    18\n",
       "KR    17\n",
       "TW    14\n",
       "SG    14\n",
       "MY    14\n",
       "CN    13\n",
       "US    10\n",
       "AU    10\n",
       "DE    9 \n",
       "GB    6 \n",
       "dtype: int64"
      ]
     },
     "execution_count": 17,
     "metadata": {},
     "output_type": "execute_result"
    }
   ],
   "source": [
    "df_2019 = df[(df['date'].dt.year==2019) & (df['type'].str.contains('national holiday'))]\n",
    "df_2019.groupby(by=['country']).size().sort_values(ascending=False)"
   ]
  },
  {
   "cell_type": "markdown",
   "metadata": {},
   "source": [
    "# Other Notes\n",
    "- There are various types of holidays. Some are at the national level, or state level, while some are religious in nature and are applicable only to those of that religion. Yet other holidays, such as Valentine's Day, are merely observed but may not result in a non-working day. Use the presence of the appropriate string to filter out the holiday type that you want."
   ]
  },
  {
   "cell_type": "code",
   "execution_count": 23,
   "metadata": {},
   "outputs": [
    {
     "data": {
      "text/plain": [
       "array(['national holiday', 'observance', 'season', 'observance,hinduism',\n",
       "       'observance,christian', 'muslim,common local holiday', 'hinduism',\n",
       "       'christian', 'orthodox', 'hebrew', 'local holiday',\n",
       "       'common local holiday', 'muslim',\n",
       "       'clock change/daylight saving time', 'national holiday,christian',\n",
       "       'local observance', 'worldwide observance',\n",
       "       'united nations observance', 'sporting event',\n",
       "       'local holiday,christian', 'christian,common local holiday'],\n",
       "      dtype=object)"
      ]
     },
     "execution_count": 23,
     "metadata": {},
     "output_type": "execute_result"
    }
   ],
   "source": [
    "df['type'].unique()"
   ]
  }
 ],
 "metadata": {
  "kernelspec": {
   "display_name": "Python 3",
   "language": "python",
   "name": "python3"
  },
  "language_info": {
   "codemirror_mode": {
    "name": "ipython",
    "version": 3
   },
   "file_extension": ".py",
   "mimetype": "text/x-python",
   "name": "python",
   "nbconvert_exporter": "python",
   "pygments_lexer": "ipython3",
   "version": "3.7.1"
  },
  "varInspector": {
   "cols": {
    "lenName": 16,
    "lenType": 16,
    "lenVar": 40
   },
   "kernels_config": {
    "python": {
     "delete_cmd_postfix": "",
     "delete_cmd_prefix": "del ",
     "library": "var_list.py",
     "varRefreshCmd": "print(var_dic_list())"
    },
    "r": {
     "delete_cmd_postfix": ") ",
     "delete_cmd_prefix": "rm(",
     "library": "var_list.r",
     "varRefreshCmd": "cat(var_dic_list()) "
    }
   },
   "types_to_exclude": [
    "module",
    "function",
    "builtin_function_or_method",
    "instance",
    "_Feature"
   ],
   "window_display": false
  }
 },
 "nbformat": 4,
 "nbformat_minor": 2
}
